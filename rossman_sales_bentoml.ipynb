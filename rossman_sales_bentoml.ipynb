{
 "cells": [
  {
   "cell_type": "code",
   "execution_count": null,
   "metadata": {
    "colab_type": "text",
    "id": "q38OuvCt4MPL"
   },
   "outputs": [],
   "source": [
    "# ROSSMANN SALES SOLUTION"
   ]
  },
  {
   "cell_type": "markdown",
   "metadata": {
    "colab_type": "text",
    "id": "kxurrMR14LC5"
   },
   "source": [
    "Rossmann operates over 3,000 drug stores in 7 European countries. Currently, Rossmann store managers are tasked with predicting their daily sales for up to six weeks in advance. Store sales are influenced by many factors, including promotions, competition, school and state holidays, seasonality, and locality. With thousands of individual managers predicting sales based on their unique circumstances, the accuracy of results can be quite varied.\n",
    "\n",
    "You are provided with historical sales data for 1,115 Rossmann stores. The task is to forecast the \"Sales\" column for the test set. Note that some stores in the dataset were temporarily closed for refurbishment."
   ]
  },
  {
   "cell_type": "markdown",
   "metadata": {
    "colab_type": "text",
    "id": "TfWEFNAA47NB"
   },
   "source": [
    "IMPORTS"
   ]
  },
  {
   "cell_type": "code",
   "execution_count": 1,
   "metadata": {},
   "outputs": [
    {
     "name": "stdout",
     "output_type": "stream",
     "text": [
      "Collecting bentoml\n",
      "  Using cached https://files.pythonhosted.org/packages/ab/18/b4ae146ef04a3514672b4ed5ffe9a5adb06cd85d027734c96c91b02dedbc/BentoML-0.3.0-py3-none-any.whl\n",
      "Requirement already satisfied: packaging in /usr/local/anaconda3/envs/dev-py3/lib/python3.7/site-packages (from bentoml) (19.0)\n",
      "Requirement already satisfied: boto3 in /usr/local/anaconda3/envs/dev-py3/lib/python3.7/site-packages (from bentoml) (1.9.188)\n",
      "Requirement already satisfied: click in /usr/local/anaconda3/envs/dev-py3/lib/python3.7/site-packages (from bentoml) (7.0)\n",
      "Requirement already satisfied: prometheus-client in /usr/local/anaconda3/envs/dev-py3/lib/python3.7/site-packages (from bentoml) (0.7.1)\n",
      "Requirement already satisfied: gunicorn in /usr/local/anaconda3/envs/dev-py3/lib/python3.7/site-packages (from bentoml) (19.9.0)\n",
      "Requirement already satisfied: pathlib2 in /usr/local/anaconda3/envs/dev-py3/lib/python3.7/site-packages (from bentoml) (2.3.4)\n",
      "Requirement already satisfied: python-json-logger in /usr/local/anaconda3/envs/dev-py3/lib/python3.7/site-packages (from bentoml) (0.1.11)\n",
      "Requirement already satisfied: requests in /usr/local/anaconda3/envs/dev-py3/lib/python3.7/site-packages (from bentoml) (2.22.0)\n",
      "Requirement already satisfied: pandas in /usr/local/anaconda3/envs/dev-py3/lib/python3.7/site-packages (from bentoml) (0.24.2)\n",
      "Requirement already satisfied: configparser in /usr/local/anaconda3/envs/dev-py3/lib/python3.7/site-packages (from bentoml) (3.7.4)\n",
      "Requirement already satisfied: six in /usr/local/anaconda3/envs/dev-py3/lib/python3.7/site-packages (from bentoml) (1.12.0)\n",
      "Requirement already satisfied: numpy in /usr/local/anaconda3/envs/dev-py3/lib/python3.7/site-packages (from bentoml) (1.16.4)\n",
      "Requirement already satisfied: ruamel.yaml>=0.15.0 in /usr/local/anaconda3/envs/dev-py3/lib/python3.7/site-packages (from bentoml) (0.15.99)\n",
      "Requirement already satisfied: dill in /usr/local/anaconda3/envs/dev-py3/lib/python3.7/site-packages (from bentoml) (0.3.0)\n",
      "Requirement already satisfied: docker in /usr/local/anaconda3/envs/dev-py3/lib/python3.7/site-packages (from bentoml) (4.0.2)\n",
      "Requirement already satisfied: flask in /usr/local/anaconda3/envs/dev-py3/lib/python3.7/site-packages (from bentoml) (1.1.1)\n",
      "Requirement already satisfied: pyparsing>=2.0.2 in /usr/local/anaconda3/envs/dev-py3/lib/python3.7/site-packages (from packaging->bentoml) (2.4.0)\n",
      "Requirement already satisfied: s3transfer<0.3.0,>=0.2.0 in /usr/local/anaconda3/envs/dev-py3/lib/python3.7/site-packages (from boto3->bentoml) (0.2.1)\n",
      "Requirement already satisfied: botocore<1.13.0,>=1.12.188 in /usr/local/anaconda3/envs/dev-py3/lib/python3.7/site-packages (from boto3->bentoml) (1.12.188)\n",
      "Requirement already satisfied: jmespath<1.0.0,>=0.7.1 in /usr/local/anaconda3/envs/dev-py3/lib/python3.7/site-packages (from boto3->bentoml) (0.9.4)\n",
      "Requirement already satisfied: certifi>=2017.4.17 in /usr/local/anaconda3/envs/dev-py3/lib/python3.7/site-packages (from requests->bentoml) (2019.6.16)\n",
      "Requirement already satisfied: urllib3!=1.25.0,!=1.25.1,<1.26,>=1.21.1 in /usr/local/anaconda3/envs/dev-py3/lib/python3.7/site-packages (from requests->bentoml) (1.25.3)\n",
      "Requirement already satisfied: idna<2.9,>=2.5 in /usr/local/anaconda3/envs/dev-py3/lib/python3.7/site-packages (from requests->bentoml) (2.8)\n",
      "Requirement already satisfied: chardet<3.1.0,>=3.0.2 in /usr/local/anaconda3/envs/dev-py3/lib/python3.7/site-packages (from requests->bentoml) (3.0.4)\n",
      "Requirement already satisfied: python-dateutil>=2.5.0 in /usr/local/anaconda3/envs/dev-py3/lib/python3.7/site-packages (from pandas->bentoml) (2.8.0)\n",
      "Requirement already satisfied: pytz>=2011k in /usr/local/anaconda3/envs/dev-py3/lib/python3.7/site-packages (from pandas->bentoml) (2019.1)\n",
      "Requirement already satisfied: websocket-client>=0.32.0 in /usr/local/anaconda3/envs/dev-py3/lib/python3.7/site-packages (from docker->bentoml) (0.56.0)\n",
      "Requirement already satisfied: itsdangerous>=0.24 in /usr/local/anaconda3/envs/dev-py3/lib/python3.7/site-packages (from flask->bentoml) (1.1.0)\n",
      "Requirement already satisfied: Werkzeug>=0.15 in /usr/local/anaconda3/envs/dev-py3/lib/python3.7/site-packages (from flask->bentoml) (0.15.4)\n",
      "Requirement already satisfied: Jinja2>=2.10.1 in /usr/local/anaconda3/envs/dev-py3/lib/python3.7/site-packages (from flask->bentoml) (2.10.1)\n",
      "Requirement already satisfied: docutils>=0.10 in /usr/local/anaconda3/envs/dev-py3/lib/python3.7/site-packages (from botocore<1.13.0,>=1.12.188->boto3->bentoml) (0.14)\n",
      "Requirement already satisfied: MarkupSafe>=0.23 in /usr/local/anaconda3/envs/dev-py3/lib/python3.7/site-packages (from Jinja2>=2.10.1->flask->bentoml) (1.1.1)\n",
      "Installing collected packages: bentoml\n",
      "Successfully installed bentoml-0.3.0\n"
     ]
    }
   ],
   "source": [
    "!pip install bentoml"
   ]
  },
  {
   "cell_type": "code",
   "execution_count": 2,
   "metadata": {
    "colab": {},
    "colab_type": "code",
    "id": "Ux4wNvMI3lkK"
   },
   "outputs": [],
   "source": [
    "%reload_ext autoreload\n",
    "%autoreload 2\n",
    "%matplotlib inline"
   ]
  },
  {
   "cell_type": "code",
   "execution_count": 3,
   "metadata": {
    "colab": {},
    "colab_type": "code",
    "id": "kkh7-dIl48vy"
   },
   "outputs": [],
   "source": [
    "import numpy as np\n",
    "import pandas as pd\n",
    "import os\n",
    "import matplotlib.pyplot as plt\n",
    "from pathlib import Path\n",
    "import PIL\n",
    "import json\n",
    "from fastai import *\n",
    "from fastai.tabular import *\n",
    "\n"
   ]
  },
  {
   "cell_type": "markdown",
   "metadata": {
    "colab_type": "text",
    "id": "Vbsu9esZ5M8M"
   },
   "source": [
    "**LOAD KAGGLE DATASET**"
   ]
  },
  {
   "cell_type": "code",
   "execution_count": 4,
   "metadata": {
    "colab": {
     "base_uri": "https://localhost:8080/",
     "height": 34
    },
    "colab_type": "code",
    "id": "SauQUhrW6vqi",
    "outputId": "3686dea9-cbc4-4ee0-df62-e824e13ce989"
   },
   "outputs": [
    {
     "data": {
      "text/plain": [
       "PosixPath('rossmann')"
      ]
     },
     "execution_count": 4,
     "metadata": {},
     "output_type": "execute_result"
    }
   ],
   "source": [
    "PATH = Path('rossmann/')\n",
    "PATH\n"
   ]
  },
  {
   "cell_type": "code",
   "execution_count": 11,
   "metadata": {},
   "outputs": [
    {
     "name": "stdout",
     "output_type": "stream",
     "text": [
      "README.md                   rossmann_sales.py\r\n",
      "\u001b[1m\u001b[36mmodels\u001b[m\u001b[m                      test_clean.csv\r\n",
      "models.zip                  train_clean.csv\r\n",
      "rossman_data_clean.ipynb    train_clean.csv.zip\r\n",
      "rossman_sales.ipynb         trained_model.pth\r\n",
      "rossman_sales_bentoml.ipynb\r\n"
     ]
    }
   ],
   "source": [
    "!ls"
   ]
  },
  {
   "cell_type": "markdown",
   "metadata": {
    "colab_type": "text",
    "id": "8Fsf0G04IwD-"
   },
   "source": [
    "**LOAD INTO DATAFRAME**"
   ]
  },
  {
   "cell_type": "code",
   "execution_count": 13,
   "metadata": {
    "colab": {},
    "colab_type": "code",
    "id": "ALgk9KF3WZ0G"
   },
   "outputs": [],
   "source": [
    "train_df = pd.read_csv('train_clean.csv')"
   ]
  },
  {
   "cell_type": "code",
   "execution_count": 15,
   "metadata": {
    "colab": {},
    "colab_type": "code",
    "id": "nd8Ya0OhXZVy"
   },
   "outputs": [],
   "source": [
    "test_df = pd.read_csv('test_clean.csv')"
   ]
  },
  {
   "cell_type": "code",
   "execution_count": 16,
   "metadata": {
    "colab": {},
    "colab_type": "code",
    "id": "49KKDvHUXQZ7"
   },
   "outputs": [],
   "source": [
    "procs = [FillMissing, Categorify, Normalize]"
   ]
  },
  {
   "cell_type": "code",
   "execution_count": 17,
   "metadata": {
    "colab": {},
    "colab_type": "code",
    "id": "J1r1rPxGYX36"
   },
   "outputs": [],
   "source": [
    "cat_vars = ['Store', 'DayOfWeek', 'Year', 'Month', 'Day', 'StateHoliday', 'CompetitionMonthsOpen',\n",
    "    'Promo2Weeks', 'StoreType', 'Assortment', 'PromoInterval', 'CompetitionOpenSinceYear', 'Promo2SinceYear',\n",
    "    'State', 'Week', 'Events', 'Promo_fw', 'Promo_bw', 'StateHoliday_fw', 'StateHoliday_bw',\n",
    "    'SchoolHoliday_fw', 'SchoolHoliday_bw']\n",
    "\n",
    "cont_vars = ['CompetitionDistance', 'Max_TemperatureC', 'Mean_TemperatureC', 'Min_TemperatureC',\n",
    "   'Max_Humidity', 'Mean_Humidity', 'Min_Humidity', 'Max_Wind_SpeedKm_h', \n",
    "   'Mean_Wind_SpeedKm_h', 'CloudCover', 'trend', 'trend_DE',\n",
    "   'AfterStateHoliday', 'BeforeStateHoliday', 'Promo', 'SchoolHoliday']"
   ]
  },
  {
   "cell_type": "code",
   "execution_count": 18,
   "metadata": {
    "colab": {},
    "colab_type": "code",
    "id": "ZWzCytNtZbwd"
   },
   "outputs": [],
   "source": [
    "dep_var = 'Sales'\n",
    "df = train_df[cat_vars + cont_vars + [dep_var,'Date']].copy()"
   ]
  },
  {
   "cell_type": "code",
   "execution_count": 19,
   "metadata": {
    "colab": {
     "base_uri": "https://localhost:8080/",
     "height": 34
    },
    "colab_type": "code",
    "id": "XhqHyPx7YIc2",
    "outputId": "edb51d64-3e2d-427d-ed6a-b7fe4a59d9a2"
   },
   "outputs": [
    {
     "data": {
      "text/plain": [
       "('2015-08-01', '2015-09-17')"
      ]
     },
     "execution_count": 19,
     "metadata": {},
     "output_type": "execute_result"
    }
   ],
   "source": [
    "test_df['Date'].min(), test_df['Date'].max()"
   ]
  },
  {
   "cell_type": "code",
   "execution_count": 20,
   "metadata": {
    "colab": {
     "base_uri": "https://localhost:8080/",
     "height": 34
    },
    "colab_type": "code",
    "id": "8dlFvF5QeEUO",
    "outputId": "fb826701-b366-45b8-d04e-55ceafeed751"
   },
   "outputs": [
    {
     "data": {
      "text/plain": [
       "41395"
      ]
     },
     "execution_count": 20,
     "metadata": {},
     "output_type": "execute_result"
    }
   ],
   "source": [
    "cut = train_df['Date'][(train_df['Date'] == train_df['Date'][len(test_df)])].index.max()\n",
    "cut"
   ]
  },
  {
   "cell_type": "code",
   "execution_count": 21,
   "metadata": {
    "colab": {},
    "colab_type": "code",
    "id": "rx0Sw0-QeE5C"
   },
   "outputs": [],
   "source": [
    "valid_idx = range(cut)"
   ]
  },
  {
   "cell_type": "code",
   "execution_count": 24,
   "metadata": {
    "colab": {
     "base_uri": "https://localhost:8080/",
     "height": 119
    },
    "colab_type": "code",
    "id": "alk_GOGReOt4",
    "outputId": "90748526-8ff3-442f-d814-b1055ceda60f"
   },
   "outputs": [
    {
     "data": {
      "text/plain": [
       "0     5263\n",
       "1     6064\n",
       "2     8314\n",
       "3    13995\n",
       "4     4822\n",
       "Name: Sales, dtype: int64"
      ]
     },
     "execution_count": 24,
     "metadata": {},
     "output_type": "execute_result"
    }
   ],
   "source": [
    "df[dep_var].head()"
   ]
  },
  {
   "cell_type": "code",
   "execution_count": 25,
   "metadata": {
    "colab": {
     "base_uri": "https://localhost:8080/",
     "height": 593
    },
    "colab_type": "code",
    "id": "VVvKUp3XgdjR",
    "outputId": "6b183afe-df6a-44ab-fb13-8847152f79ae"
   },
   "outputs": [
    {
     "data": {
      "text/html": [
       "<div>\n",
       "<style scoped>\n",
       "    .dataframe tbody tr th:only-of-type {\n",
       "        vertical-align: middle;\n",
       "    }\n",
       "\n",
       "    .dataframe tbody tr th {\n",
       "        vertical-align: top;\n",
       "    }\n",
       "\n",
       "    .dataframe thead th {\n",
       "        text-align: right;\n",
       "    }\n",
       "</style>\n",
       "<table border=\"1\" class=\"dataframe\">\n",
       "  <thead>\n",
       "    <tr style=\"text-align: right;\">\n",
       "      <th></th>\n",
       "      <th>Unnamed: 0</th>\n",
       "      <th>index</th>\n",
       "      <th>Store</th>\n",
       "      <th>DayOfWeek</th>\n",
       "      <th>Date</th>\n",
       "      <th>Sales</th>\n",
       "      <th>Customers</th>\n",
       "      <th>Open</th>\n",
       "      <th>Promo</th>\n",
       "      <th>StateHoliday</th>\n",
       "      <th>...</th>\n",
       "      <th>AfterStateHoliday</th>\n",
       "      <th>BeforeStateHoliday</th>\n",
       "      <th>AfterPromo</th>\n",
       "      <th>BeforePromo</th>\n",
       "      <th>SchoolHoliday_bw</th>\n",
       "      <th>StateHoliday_bw</th>\n",
       "      <th>Promo_bw</th>\n",
       "      <th>SchoolHoliday_fw</th>\n",
       "      <th>StateHoliday_fw</th>\n",
       "      <th>Promo_fw</th>\n",
       "    </tr>\n",
       "  </thead>\n",
       "  <tbody>\n",
       "    <tr>\n",
       "      <th>0</th>\n",
       "      <td>0</td>\n",
       "      <td>0</td>\n",
       "      <td>1</td>\n",
       "      <td>5</td>\n",
       "      <td>2015-07-31</td>\n",
       "      <td>5263</td>\n",
       "      <td>555</td>\n",
       "      <td>1</td>\n",
       "      <td>1</td>\n",
       "      <td>False</td>\n",
       "      <td>...</td>\n",
       "      <td>57.0</td>\n",
       "      <td>0.0</td>\n",
       "      <td>0.0</td>\n",
       "      <td>0.0</td>\n",
       "      <td>5.0</td>\n",
       "      <td>0.0</td>\n",
       "      <td>5.0</td>\n",
       "      <td>7.0</td>\n",
       "      <td>0.0</td>\n",
       "      <td>5.0</td>\n",
       "    </tr>\n",
       "    <tr>\n",
       "      <th>1</th>\n",
       "      <td>1</td>\n",
       "      <td>1</td>\n",
       "      <td>2</td>\n",
       "      <td>5</td>\n",
       "      <td>2015-07-31</td>\n",
       "      <td>6064</td>\n",
       "      <td>625</td>\n",
       "      <td>1</td>\n",
       "      <td>1</td>\n",
       "      <td>False</td>\n",
       "      <td>...</td>\n",
       "      <td>67.0</td>\n",
       "      <td>0.0</td>\n",
       "      <td>0.0</td>\n",
       "      <td>0.0</td>\n",
       "      <td>5.0</td>\n",
       "      <td>0.0</td>\n",
       "      <td>5.0</td>\n",
       "      <td>1.0</td>\n",
       "      <td>0.0</td>\n",
       "      <td>1.0</td>\n",
       "    </tr>\n",
       "    <tr>\n",
       "      <th>2</th>\n",
       "      <td>2</td>\n",
       "      <td>2</td>\n",
       "      <td>3</td>\n",
       "      <td>5</td>\n",
       "      <td>2015-07-31</td>\n",
       "      <td>8314</td>\n",
       "      <td>821</td>\n",
       "      <td>1</td>\n",
       "      <td>1</td>\n",
       "      <td>False</td>\n",
       "      <td>...</td>\n",
       "      <td>57.0</td>\n",
       "      <td>0.0</td>\n",
       "      <td>0.0</td>\n",
       "      <td>0.0</td>\n",
       "      <td>5.0</td>\n",
       "      <td>0.0</td>\n",
       "      <td>5.0</td>\n",
       "      <td>5.0</td>\n",
       "      <td>0.0</td>\n",
       "      <td>5.0</td>\n",
       "    </tr>\n",
       "    <tr>\n",
       "      <th>3</th>\n",
       "      <td>3</td>\n",
       "      <td>3</td>\n",
       "      <td>4</td>\n",
       "      <td>5</td>\n",
       "      <td>2015-07-31</td>\n",
       "      <td>13995</td>\n",
       "      <td>1498</td>\n",
       "      <td>1</td>\n",
       "      <td>1</td>\n",
       "      <td>False</td>\n",
       "      <td>...</td>\n",
       "      <td>67.0</td>\n",
       "      <td>0.0</td>\n",
       "      <td>0.0</td>\n",
       "      <td>0.0</td>\n",
       "      <td>5.0</td>\n",
       "      <td>0.0</td>\n",
       "      <td>5.0</td>\n",
       "      <td>1.0</td>\n",
       "      <td>0.0</td>\n",
       "      <td>1.0</td>\n",
       "    </tr>\n",
       "    <tr>\n",
       "      <th>4</th>\n",
       "      <td>4</td>\n",
       "      <td>4</td>\n",
       "      <td>5</td>\n",
       "      <td>5</td>\n",
       "      <td>2015-07-31</td>\n",
       "      <td>4822</td>\n",
       "      <td>559</td>\n",
       "      <td>1</td>\n",
       "      <td>1</td>\n",
       "      <td>False</td>\n",
       "      <td>...</td>\n",
       "      <td>57.0</td>\n",
       "      <td>0.0</td>\n",
       "      <td>0.0</td>\n",
       "      <td>0.0</td>\n",
       "      <td>5.0</td>\n",
       "      <td>0.0</td>\n",
       "      <td>5.0</td>\n",
       "      <td>1.0</td>\n",
       "      <td>0.0</td>\n",
       "      <td>1.0</td>\n",
       "    </tr>\n",
       "  </tbody>\n",
       "</table>\n",
       "<p>5 rows × 94 columns</p>\n",
       "</div>"
      ],
      "text/plain": [
       "   Unnamed: 0  index  Store  DayOfWeek        Date  Sales  Customers  Open  \\\n",
       "0           0      0      1          5  2015-07-31   5263        555     1   \n",
       "1           1      1      2          5  2015-07-31   6064        625     1   \n",
       "2           2      2      3          5  2015-07-31   8314        821     1   \n",
       "3           3      3      4          5  2015-07-31  13995       1498     1   \n",
       "4           4      4      5          5  2015-07-31   4822        559     1   \n",
       "\n",
       "   Promo  StateHoliday  ...  AfterStateHoliday  BeforeStateHoliday  \\\n",
       "0      1         False  ...               57.0                 0.0   \n",
       "1      1         False  ...               67.0                 0.0   \n",
       "2      1         False  ...               57.0                 0.0   \n",
       "3      1         False  ...               67.0                 0.0   \n",
       "4      1         False  ...               57.0                 0.0   \n",
       "\n",
       "   AfterPromo  BeforePromo  SchoolHoliday_bw  StateHoliday_bw  Promo_bw  \\\n",
       "0         0.0          0.0               5.0              0.0       5.0   \n",
       "1         0.0          0.0               5.0              0.0       5.0   \n",
       "2         0.0          0.0               5.0              0.0       5.0   \n",
       "3         0.0          0.0               5.0              0.0       5.0   \n",
       "4         0.0          0.0               5.0              0.0       5.0   \n",
       "\n",
       "   SchoolHoliday_fw  StateHoliday_fw  Promo_fw  \n",
       "0               7.0              0.0       5.0  \n",
       "1               1.0              0.0       1.0  \n",
       "2               5.0              0.0       5.0  \n",
       "3               1.0              0.0       1.0  \n",
       "4               1.0              0.0       1.0  \n",
       "\n",
       "[5 rows x 94 columns]"
      ]
     },
     "execution_count": 25,
     "metadata": {},
     "output_type": "execute_result"
    }
   ],
   "source": [
    "train_df.head()"
   ]
  },
  {
   "cell_type": "code",
   "execution_count": 26,
   "metadata": {
    "colab": {},
    "colab_type": "code",
    "id": "MKp2QazvYwOj"
   },
   "outputs": [],
   "source": [
    "data = (TabularList.from_df(df, path=PATH, cat_names=cat_vars, cont_names=cont_vars, procs=procs,)\n",
    "                .split_by_idx(valid_idx)\n",
    "                .label_from_df(cols=dep_var, label_cls=FloatList, log=True)\n",
    "                .add_test(TabularList.from_df(test_df, path=PATH, cat_names=cat_vars, cont_names=cont_vars))\n",
    "                .databunch())\n"
   ]
  },
  {
   "cell_type": "code",
   "execution_count": 27,
   "metadata": {
    "colab": {
     "base_uri": "https://localhost:8080/",
     "height": 54
    },
    "colab_type": "code",
    "id": "oNaZq8DSY6My",
    "outputId": "427d0c45-002e-4409-af61-ca540fb812f2"
   },
   "outputs": [
    {
     "name": "stdout",
     "output_type": "stream",
     "text": [
      "['CompetitionDistance', 'Max_TemperatureC', 'Mean_TemperatureC', 'Min_TemperatureC', 'Max_Humidity', 'Mean_Humidity', 'Min_Humidity', 'Max_Wind_SpeedKm_h', 'Mean_Wind_SpeedKm_h', 'CloudCover', 'trend', 'trend_DE', 'AfterStateHoliday', 'BeforeStateHoliday', 'Promo', 'SchoolHoliday']\n"
     ]
    }
   ],
   "source": [
    "print(data.train_ds.cont_names)  "
   ]
  },
  {
   "cell_type": "code",
   "execution_count": 28,
   "metadata": {
    "colab": {
     "base_uri": "https://localhost:8080/",
     "height": 204
    },
    "colab_type": "code",
    "id": "t5E4ImnNaSzx",
    "outputId": "9be2069d-e2b3-4800-8a23-61301b6f479d"
   },
   "outputs": [
    {
     "name": "stdout",
     "output_type": "stream",
     "text": [
      "[[458   6   1   1 ...   1   1   1   1]\n",
      " [735   3   1   1 ...   1   1   1   1]\n",
      " [334   4   1   1 ...   1   1   1   1]\n",
      " [536   5   1   4 ...   1   1   1   1]\n",
      " [847   2   1   4 ...   1   1   1   1]]\n",
      "[[-0.263889 -1.50742  -1.645094 -1.315092 ...  1.654549 -0.269147 -0.880569 -0.387468]\n",
      " [-0.452271 -1.329946 -1.229165 -0.901096 ...  1.172916 -1.160119 -0.880569 -0.387468]\n",
      " [-0.18059  -1.684893 -1.437129 -0.694097 ...  1.590332 -0.447341  1.135616 -0.387468]\n",
      " [-0.09601   2.396997  1.890303  0.961889 ... -0.62518   0.889117 -0.880569 -0.387468]\n",
      " [-0.673974  0.799736  1.058445  1.168887 ... -0.62518   0.710922  1.135616 -0.387468]]\n",
      "[9.10498  8.380916 8.633909 8.981682 8.977525]\n"
     ]
    }
   ],
   "source": [
    "(cat_x,cont_x),y = next(iter(data.train_dl))\n",
    "for o in (cat_x, cont_x, y): print(to_np(o[:5]))"
   ]
  },
  {
   "cell_type": "markdown",
   "metadata": {
    "colab_type": "text",
    "id": "kXrC5YEEaq70"
   },
   "source": [
    "DEFINING THE MODEL"
   ]
  },
  {
   "cell_type": "code",
   "execution_count": 29,
   "metadata": {
    "colab": {
     "base_uri": "https://localhost:8080/",
     "height": 34
    },
    "colab_type": "code",
    "id": "We_rMzZqa_Bk",
    "outputId": "668751f2-8985-4d10-e138-f29884921d63"
   },
   "outputs": [
    {
     "name": "stdout",
     "output_type": "stream",
     "text": [
      "cpu\n"
     ]
    }
   ],
   "source": [
    "device = \"cuda\" if torch.cuda.is_available() else \"cpu\"\n",
    "print(device)"
   ]
  },
  {
   "cell_type": "code",
   "execution_count": 30,
   "metadata": {
    "colab": {},
    "colab_type": "code",
    "id": "qfcxx0jQdC2m"
   },
   "outputs": [],
   "source": [
    "max_log_y = np.log(np.max(train_df['Sales'])*1.2)\n",
    "y_range = torch.tensor([0, max_log_y], device=defaults.device)"
   ]
  },
  {
   "cell_type": "code",
   "execution_count": 31,
   "metadata": {
    "colab": {},
    "colab_type": "code",
    "id": "58uIxa6UauA1"
   },
   "outputs": [],
   "source": [
    "learn = tabular_learner(data, layers=[1000,500], ps=[0.001,0.01], emb_drop=0.04, \n",
    "                        y_range=y_range, metrics=exp_rmspe)"
   ]
  },
  {
   "cell_type": "code",
   "execution_count": 32,
   "metadata": {
    "colab": {
     "base_uri": "https://localhost:8080/",
     "height": 714
    },
    "colab_type": "code",
    "id": "r9IX1oU4bXZE",
    "outputId": "1cf2deef-b827-42c8-f6a4-7dac12afeebc"
   },
   "outputs": [
    {
     "data": {
      "text/plain": [
       "TabularModel(\n",
       "  (embeds): ModuleList(\n",
       "    (0): Embedding(1116, 81)\n",
       "    (1): Embedding(8, 5)\n",
       "    (2): Embedding(2, 2)\n",
       "    (3): Embedding(5, 4)\n",
       "    (4): Embedding(32, 11)\n",
       "    (5): Embedding(3, 3)\n",
       "    (6): Embedding(26, 10)\n",
       "    (7): Embedding(27, 10)\n",
       "    (8): Embedding(5, 4)\n",
       "    (9): Embedding(4, 3)\n",
       "    (10): Embedding(4, 3)\n",
       "    (11): Embedding(24, 9)\n",
       "    (12): Embedding(9, 5)\n",
       "    (13): Embedding(13, 7)\n",
       "    (14): Embedding(17, 8)\n",
       "    (15): Embedding(17, 8)\n",
       "    (16): Embedding(7, 5)\n",
       "    (17): Embedding(7, 5)\n",
       "    (18): Embedding(4, 3)\n",
       "    (19): Embedding(4, 3)\n",
       "    (20): Embedding(9, 5)\n",
       "    (21): Embedding(9, 5)\n",
       "    (22): Embedding(3, 3)\n",
       "    (23): Embedding(3, 3)\n",
       "    (24): Embedding(3, 3)\n",
       "    (25): Embedding(3, 3)\n",
       "  )\n",
       "  (emb_drop): Dropout(p=0.04)\n",
       "  (bn_cont): BatchNorm1d(16, eps=1e-05, momentum=0.1, affine=True, track_running_stats=True)\n",
       "  (layers): Sequential(\n",
       "    (0): Linear(in_features=227, out_features=1000, bias=True)\n",
       "    (1): ReLU(inplace)\n",
       "    (2): BatchNorm1d(1000, eps=1e-05, momentum=0.1, affine=True, track_running_stats=True)\n",
       "    (3): Dropout(p=0.001)\n",
       "    (4): Linear(in_features=1000, out_features=500, bias=True)\n",
       "    (5): ReLU(inplace)\n",
       "    (6): BatchNorm1d(500, eps=1e-05, momentum=0.1, affine=True, track_running_stats=True)\n",
       "    (7): Dropout(p=0.01)\n",
       "    (8): Linear(in_features=500, out_features=1, bias=True)\n",
       "  )\n",
       ")"
      ]
     },
     "execution_count": 32,
     "metadata": {},
     "output_type": "execute_result"
    }
   ],
   "source": [
    "learn.model"
   ]
  },
  {
   "cell_type": "code",
   "execution_count": 33,
   "metadata": {
    "colab": {
     "base_uri": "https://localhost:8080/",
     "height": 300
    },
    "colab_type": "code",
    "id": "Lds-5TgcbbJi",
    "outputId": "eb4f91d5-c653-44e3-ce64-1971181cc02e"
   },
   "outputs": [
    {
     "data": {
      "text/html": [],
      "text/plain": [
       "<IPython.core.display.HTML object>"
      ]
     },
     "metadata": {},
     "output_type": "display_data"
    },
    {
     "name": "stdout",
     "output_type": "stream",
     "text": [
      "LR Finder is complete, type {learner_name}.recorder.plot() to see the graph.\n"
     ]
    },
    {
     "data": {
      "image/png": "[encoded data removed]",
      "text/plain": [
       "<Figure size 432x288 with 1 Axes>"
      ]
     },
     "metadata": {
      "needs_background": "light"
     },
     "output_type": "display_data"
    }
   ],
   "source": [
    "learn.lr_find()\n",
    "learn.recorder.plot()"
   ]
  },
  {
   "cell_type": "code",
   "execution_count": 34,
   "metadata": {
    "colab": {
     "base_uri": "https://localhost:8080/",
     "height": 359
    },
    "colab_type": "code",
    "id": "jxjfEt3mbdVO",
    "outputId": "e3dacc62-db84-4863-e209-b5aba26b5e89"
   },
   "outputs": [
    {
     "data": {
      "text/html": [
       "<table border=\"1\" class=\"dataframe\">\n",
       "  <thead>\n",
       "    <tr style=\"text-align: left;\">\n",
       "      <th>epoch</th>\n",
       "      <th>train_loss</th>\n",
       "      <th>valid_loss</th>\n",
       "      <th>exp_rmspe</th>\n",
       "      <th>time</th>\n",
       "    </tr>\n",
       "  </thead>\n",
       "  <tbody>\n",
       "    <tr>\n",
       "      <td>0</td>\n",
       "      <td>0.055021</td>\n",
       "      <td>0.072887</td>\n",
       "      <td>0.283810</td>\n",
       "      <td>00:45</td>\n",
       "    </tr>\n",
       "  </tbody>\n",
       "</table>"
      ],
      "text/plain": [
       "<IPython.core.display.HTML object>"
      ]
     },
     "metadata": {},
     "output_type": "display_data"
    }
   ],
   "source": [
    "learn.fit_one_cycle(1, 1e-04 , wd = 0.2)\n",
    "#wd=0.2\n"
   ]
  },
  {
   "cell_type": "code",
   "execution_count": 35,
   "metadata": {
    "colab": {
     "base_uri": "https://localhost:8080/",
     "height": 224
    },
    "colab_type": "code",
    "id": "AvUcHx8Dbjo2",
    "outputId": "dad9540f-d5bc-4c9e-9ca6-3e7ffe256b63"
   },
   "outputs": [
    {
     "data": {
      "text/html": [
       "<table border=\"1\" class=\"dataframe\">\n",
       "  <thead>\n",
       "    <tr style=\"text-align: right;\">\n",
       "      <th>Store</th>\n",
       "      <th>DayOfWeek</th>\n",
       "      <th>Year</th>\n",
       "      <th>Month</th>\n",
       "      <th>Day</th>\n",
       "      <th>StateHoliday</th>\n",
       "      <th>CompetitionMonthsOpen</th>\n",
       "      <th>Promo2Weeks</th>\n",
       "      <th>StoreType</th>\n",
       "      <th>Assortment</th>\n",
       "      <th>PromoInterval</th>\n",
       "      <th>CompetitionOpenSinceYear</th>\n",
       "      <th>Promo2SinceYear</th>\n",
       "      <th>State</th>\n",
       "      <th>Week</th>\n",
       "      <th>Events</th>\n",
       "      <th>Promo_fw</th>\n",
       "      <th>Promo_bw</th>\n",
       "      <th>StateHoliday_fw</th>\n",
       "      <th>StateHoliday_bw</th>\n",
       "      <th>SchoolHoliday_fw</th>\n",
       "      <th>SchoolHoliday_bw</th>\n",
       "      <th>CompetitionDistance_na</th>\n",
       "      <th>CloudCover_na</th>\n",
       "      <th>AfterStateHoliday_na</th>\n",
       "      <th>BeforeStateHoliday_na</th>\n",
       "      <th>CompetitionDistance</th>\n",
       "      <th>Max_TemperatureC</th>\n",
       "      <th>Mean_TemperatureC</th>\n",
       "      <th>Min_TemperatureC</th>\n",
       "      <th>Max_Humidity</th>\n",
       "      <th>Mean_Humidity</th>\n",
       "      <th>Min_Humidity</th>\n",
       "      <th>Max_Wind_SpeedKm_h</th>\n",
       "      <th>Mean_Wind_SpeedKm_h</th>\n",
       "      <th>CloudCover</th>\n",
       "      <th>trend</th>\n",
       "      <th>trend_DE</th>\n",
       "      <th>AfterStateHoliday</th>\n",
       "      <th>BeforeStateHoliday</th>\n",
       "      <th>Promo</th>\n",
       "      <th>SchoolHoliday</th>\n",
       "      <th>target</th>\n",
       "      <th>prediction</th>\n",
       "    </tr>\n",
       "  </thead>\n",
       "  <tbody>\n",
       "    <tr>\n",
       "      <td>1</td>\n",
       "      <td>5</td>\n",
       "      <td>2015</td>\n",
       "      <td>#na#</td>\n",
       "      <td>31</td>\n",
       "      <td>False</td>\n",
       "      <td>24.0</td>\n",
       "      <td>0.0</td>\n",
       "      <td>c</td>\n",
       "      <td>a</td>\n",
       "      <td>#na#</td>\n",
       "      <td>2008</td>\n",
       "      <td>1900</td>\n",
       "      <td>HE</td>\n",
       "      <td>#na#</td>\n",
       "      <td>Fog</td>\n",
       "      <td>5.0</td>\n",
       "      <td>5.0</td>\n",
       "      <td>0.0</td>\n",
       "      <td>0.0</td>\n",
       "      <td>7.0</td>\n",
       "      <td>5.0</td>\n",
       "      <td>False</td>\n",
       "      <td>False</td>\n",
       "      <td>False</td>\n",
       "      <td>False</td>\n",
       "      <td>-0.5356</td>\n",
       "      <td>1.1547</td>\n",
       "      <td>1.0584</td>\n",
       "      <td>0.5479</td>\n",
       "      <td>0.8495</td>\n",
       "      <td>-0.9590</td>\n",
       "      <td>-1.2146</td>\n",
       "      <td>-0.0086</td>\n",
       "      <td>-0.1042</td>\n",
       "      <td>-2.6183</td>\n",
       "      <td>1.5460</td>\n",
       "      <td>2.0817</td>\n",
       "      <td>0.9482</td>\n",
       "      <td>0.8891</td>\n",
       "      <td>1.1356</td>\n",
       "      <td>2.5808</td>\n",
       "      <td>8.568457</td>\n",
       "      <td>[8.893487]</td>\n",
       "    </tr>\n",
       "    <tr>\n",
       "      <td>2</td>\n",
       "      <td>5</td>\n",
       "      <td>2015</td>\n",
       "      <td>#na#</td>\n",
       "      <td>31</td>\n",
       "      <td>False</td>\n",
       "      <td>24.0</td>\n",
       "      <td>25.0</td>\n",
       "      <td>a</td>\n",
       "      <td>a</td>\n",
       "      <td>Jan,Apr,Jul,Oct</td>\n",
       "      <td>2007</td>\n",
       "      <td>2010</td>\n",
       "      <td>TH</td>\n",
       "      <td>#na#</td>\n",
       "      <td>Fog</td>\n",
       "      <td>1.0</td>\n",
       "      <td>5.0</td>\n",
       "      <td>0.0</td>\n",
       "      <td>0.0</td>\n",
       "      <td>1.0</td>\n",
       "      <td>5.0</td>\n",
       "      <td>False</td>\n",
       "      <td>False</td>\n",
       "      <td>False</td>\n",
       "      <td>False</td>\n",
       "      <td>-0.6253</td>\n",
       "      <td>0.4448</td>\n",
       "      <td>0.4346</td>\n",
       "      <td>0.3409</td>\n",
       "      <td>1.0810</td>\n",
       "      <td>-0.2600</td>\n",
       "      <td>-0.7411</td>\n",
       "      <td>-1.0110</td>\n",
       "      <td>-0.1042</td>\n",
       "      <td>-0.8137</td>\n",
       "      <td>1.0425</td>\n",
       "      <td>2.0817</td>\n",
       "      <td>1.2692</td>\n",
       "      <td>0.8891</td>\n",
       "      <td>1.1356</td>\n",
       "      <td>2.5808</td>\n",
       "      <td>8.710125</td>\n",
       "      <td>[8.820939]</td>\n",
       "    </tr>\n",
       "    <tr>\n",
       "      <td>3</td>\n",
       "      <td>5</td>\n",
       "      <td>2015</td>\n",
       "      <td>#na#</td>\n",
       "      <td>31</td>\n",
       "      <td>False</td>\n",
       "      <td>24.0</td>\n",
       "      <td>25.0</td>\n",
       "      <td>a</td>\n",
       "      <td>a</td>\n",
       "      <td>Jan,Apr,Jul,Oct</td>\n",
       "      <td>2006</td>\n",
       "      <td>2011</td>\n",
       "      <td>NW</td>\n",
       "      <td>#na#</td>\n",
       "      <td>Fog</td>\n",
       "      <td>5.0</td>\n",
       "      <td>5.0</td>\n",
       "      <td>0.0</td>\n",
       "      <td>0.0</td>\n",
       "      <td>5.0</td>\n",
       "      <td>5.0</td>\n",
       "      <td>False</td>\n",
       "      <td>False</td>\n",
       "      <td>False</td>\n",
       "      <td>False</td>\n",
       "      <td>1.1125</td>\n",
       "      <td>0.7997</td>\n",
       "      <td>0.4346</td>\n",
       "      <td>0.1339</td>\n",
       "      <td>1.0810</td>\n",
       "      <td>-0.3474</td>\n",
       "      <td>-0.8088</td>\n",
       "      <td>-1.0110</td>\n",
       "      <td>-1.1302</td>\n",
       "      <td>-2.0167</td>\n",
       "      <td>1.6467</td>\n",
       "      <td>2.0817</td>\n",
       "      <td>0.9482</td>\n",
       "      <td>0.8891</td>\n",
       "      <td>1.1356</td>\n",
       "      <td>2.5808</td>\n",
       "      <td>9.025696</td>\n",
       "      <td>[9.101529]</td>\n",
       "    </tr>\n",
       "    <tr>\n",
       "      <td>4</td>\n",
       "      <td>5</td>\n",
       "      <td>2015</td>\n",
       "      <td>#na#</td>\n",
       "      <td>31</td>\n",
       "      <td>False</td>\n",
       "      <td>24.0</td>\n",
       "      <td>0.0</td>\n",
       "      <td>c</td>\n",
       "      <td>c</td>\n",
       "      <td>#na#</td>\n",
       "      <td>2009</td>\n",
       "      <td>1900</td>\n",
       "      <td>BE</td>\n",
       "      <td>#na#</td>\n",
       "      <td>#na#</td>\n",
       "      <td>1.0</td>\n",
       "      <td>5.0</td>\n",
       "      <td>0.0</td>\n",
       "      <td>0.0</td>\n",
       "      <td>1.0</td>\n",
       "      <td>5.0</td>\n",
       "      <td>False</td>\n",
       "      <td>False</td>\n",
       "      <td>False</td>\n",
       "      <td>False</td>\n",
       "      <td>-0.6189</td>\n",
       "      <td>0.4448</td>\n",
       "      <td>0.6425</td>\n",
       "      <td>0.7549</td>\n",
       "      <td>0.3865</td>\n",
       "      <td>-0.3474</td>\n",
       "      <td>-0.4030</td>\n",
       "      <td>-0.1088</td>\n",
       "      <td>0.7509</td>\n",
       "      <td>0.3893</td>\n",
       "      <td>0.4384</td>\n",
       "      <td>2.0817</td>\n",
       "      <td>1.2692</td>\n",
       "      <td>0.8891</td>\n",
       "      <td>1.1356</td>\n",
       "      <td>2.5808</td>\n",
       "      <td>9.546455</td>\n",
       "      <td>[9.271607]</td>\n",
       "    </tr>\n",
       "    <tr>\n",
       "      <td>5</td>\n",
       "      <td>5</td>\n",
       "      <td>2015</td>\n",
       "      <td>#na#</td>\n",
       "      <td>31</td>\n",
       "      <td>False</td>\n",
       "      <td>3.0</td>\n",
       "      <td>0.0</td>\n",
       "      <td>a</td>\n",
       "      <td>a</td>\n",
       "      <td>#na#</td>\n",
       "      <td>2015</td>\n",
       "      <td>1900</td>\n",
       "      <td>SN</td>\n",
       "      <td>#na#</td>\n",
       "      <td>#na#</td>\n",
       "      <td>1.0</td>\n",
       "      <td>5.0</td>\n",
       "      <td>0.0</td>\n",
       "      <td>0.0</td>\n",
       "      <td>1.0</td>\n",
       "      <td>5.0</td>\n",
       "      <td>False</td>\n",
       "      <td>False</td>\n",
       "      <td>False</td>\n",
       "      <td>False</td>\n",
       "      <td>3.1347</td>\n",
       "      <td>0.6223</td>\n",
       "      <td>0.8505</td>\n",
       "      <td>0.9619</td>\n",
       "      <td>-1.0025</td>\n",
       "      <td>-0.8716</td>\n",
       "      <td>-0.6735</td>\n",
       "      <td>-1.0110</td>\n",
       "      <td>-0.1042</td>\n",
       "      <td>-0.8137</td>\n",
       "      <td>1.2439</td>\n",
       "      <td>2.0817</td>\n",
       "      <td>0.9482</td>\n",
       "      <td>0.8891</td>\n",
       "      <td>1.1356</td>\n",
       "      <td>2.5808</td>\n",
       "      <td>8.480944</td>\n",
       "      <td>[9.122861]</td>\n",
       "    </tr>\n",
       "  </tbody>\n",
       "</table>"
      ],
      "text/plain": [
       "<IPython.core.display.HTML object>"
      ]
     },
     "metadata": {},
     "output_type": "display_data"
    }
   ],
   "source": [
    "learn.show_results()"
   ]
  },
  {
   "cell_type": "code",
   "execution_count": 36,
   "metadata": {
    "colab": {
     "base_uri": "https://localhost:8080/",
     "height": 283
    },
    "colab_type": "code",
    "id": "ImtiUKHJbkU1",
    "outputId": "6877a44c-cb5e-4265-c467-970f05b6f0ca"
   },
   "outputs": [
    {
     "data": {
      "image/png": "[encoded data removed]",
      "text/plain": [
       "<Figure size 432x288 with 1 Axes>"
      ]
     },
     "metadata": {
      "needs_background": "light"
     },
     "output_type": "display_data"
    }
   ],
   "source": [
    "learn.recorder.plot_losses()"
   ]
  },
  {
   "cell_type": "code",
   "execution_count": 37,
   "metadata": {},
   "outputs": [],
   "source": [
    "row = df.iloc[0]"
   ]
  },
  {
   "cell_type": "code",
   "execution_count": 38,
   "metadata": {},
   "outputs": [
    {
     "data": {
      "text/plain": [
       "(FloatItem [8.893487], tensor([8.8935]), tensor([8.8935]))"
      ]
     },
     "execution_count": 38,
     "metadata": {},
     "output_type": "execute_result"
    }
   ],
   "source": [
    "learn.predict(row)"
   ]
  },
  {
   "cell_type": "code",
   "execution_count": 39,
   "metadata": {},
   "outputs": [],
   "source": [
    "test_df.to_csv('test_clean.csv')"
   ]
  },
  {
   "cell_type": "code",
   "execution_count": 40,
   "metadata": {},
   "outputs": [
    {
     "name": "stdout",
     "output_type": "stream",
     "text": [
      "README.md                   \u001b[1m\u001b[36mrossmann\u001b[m\u001b[m\r\n",
      "\u001b[1m\u001b[36mmodels\u001b[m\u001b[m                      rossmann_sales.py\r\n",
      "models.zip                  test_clean.csv\r\n",
      "rossman_data_clean.ipynb    train_clean.csv\r\n",
      "rossman_sales.ipynb         train_clean.csv.zip\r\n",
      "rossman_sales_bentoml.ipynb trained_model.pth\r\n"
     ]
    }
   ],
   "source": [
    "!ls"
   ]
  },
  {
   "cell_type": "code",
   "execution_count": 41,
   "metadata": {},
   "outputs": [
    {
     "name": "stdout",
     "output_type": "stream",
     "text": [
      "Overwriting rossmann_sales.py\n"
     ]
    }
   ],
   "source": [
    "%%writefile rossmann_sales.py\n",
    "\n",
    "from bentoml import BentoService, api, env, artifacts\n",
    "from bentoml.artifact import FastaiModelArtifact\n",
    "from bentoml.handlers import DataframeHandler\n",
    "\n",
    "#@env(conda_pip_dependencies=['fastai'])\n",
    "@env(conda_environment=['fastai'])\n",
    "@artifacts([FastaiModelArtifact('rossmann')])\n",
    "\n",
    "class RossmannSales(BentoService):\n",
    "    \n",
    "    @api(DataframeHandler)\n",
    "    def predict(self,df):\n",
    "        result = []\n",
    "        for index, row in df.iterrows():            \n",
    "            result.append(self.artifacts.rossmann.predict(row))\n",
    "        return str(result)"
   ]
  },
  {
   "cell_type": "code",
   "execution_count": 42,
   "metadata": {},
   "outputs": [
    {
     "name": "stdout",
     "output_type": "stream",
     "text": [
      "[2019-07-21 20:26:03,944] INFO - Searching for dependant modules of rossmann_sales:/Users/bozhaoyu/src/scrap/RossmanSales/rossmann_sales.py\n",
      "[2019-07-21 20:26:25,900] INFO - Copying local python module '/Users/bozhaoyu/src/scrap/RossmanSales/rossmann_sales.py'\n",
      "[2019-07-21 20:26:25,902] INFO - Done copying local python dependant modules\n",
      "[2019-07-21 20:26:26,022] INFO - BentoService RossmannSales:2019_07_21_9dbf9dec saved to /tmp/bento_archive/RossmannSales/2019_07_21_9dbf9dec\n",
      "/tmp/bento_archive/RossmannSales/2019_07_21_9dbf9dec\n"
     ]
    }
   ],
   "source": [
    "from rossmann_sales import RossmannSales\n",
    "\n",
    "service = RossmannSales.pack(rossmann=learn)\n",
    "saved_path = service.save('/tmp/bento_archive')\n",
    "\n",
    "print(saved_path)"
   ]
  },
  {
   "cell_type": "code",
   "execution_count": 43,
   "metadata": {},
   "outputs": [
    {
     "name": "stdout",
     "output_type": "stream",
     "text": [
      "Processing /tmp/bento_archive/RossmannSales/2019_07_21_9dbf9dec\n",
      "Building wheels for collected packages: RossmannSales\n",
      "  Building wheel for RossmannSales (setup.py) ... \u001b[?25ldone\n",
      "\u001b[?25h  Stored in directory: /private/var/folders/kn/xnc9k74x03567n1mx2tfqnpr0000gn/T/pip-ephem-wheel-cache-pad17pic/wheels/d3/c6/48/2499714d244ed6890f3887e38180397699ed5c716fec5a5729\n",
      "Successfully built RossmannSales\n",
      "Installing collected packages: RossmannSales\n",
      "Successfully installed RossmannSales-2019-07-21-9dbf9dec\n"
     ]
    }
   ],
   "source": [
    "!pip install {saved_path}"
   ]
  },
  {
   "cell_type": "code",
   "execution_count": 46,
   "metadata": {},
   "outputs": [
    {
     "name": "stdout",
     "output_type": "stream",
     "text": [
      "{\r\n",
      "  \"name\": \"RossmannSales\",\r\n",
      "  \"version\": \"2019_07_21_9dbf9dec\",\r\n",
      "  \"apis\": [\r\n",
      "    \"predict\"\r\n",
      "  ]\r\n",
      "}\r\n"
     ]
    }
   ],
   "source": [
    "!RossmannSales info"
   ]
  },
  {
   "cell_type": "code",
   "execution_count": 50,
   "metadata": {},
   "outputs": [
    {
     "name": "stdout",
     "output_type": "stream",
     "text": [
      "   Store  DayOfWeek  Year  Month  Day  StateHoliday  CompetitionMonthsOpen  \\\n",
      "0      1          5  2015      7   31         False                   24.0   \n",
      "1      2          5  2015      7   31         False                   24.0   \n",
      "2      3          5  2015      7   31         False                   24.0   \n",
      "3      4          5  2015      7   31         False                   24.0   \n",
      "\n",
      "   Promo2Weeks StoreType Assortment  ... Mean_Wind_SpeedKm_h  CloudCover  \\\n",
      "0          0.0         c          a  ...                  11         1.0   \n",
      "1         25.0         a          a  ...                  11         4.0   \n",
      "2         25.0         a          a  ...                   5         2.0   \n",
      "3          0.0         c          c  ...                  16         6.0   \n",
      "\n",
      "   trend trend_DE  AfterStateHoliday BeforeStateHoliday  Promo  SchoolHoliday  \\\n",
      "0     85       83               57.0                0.0      1              1   \n",
      "1     80       83               67.0                0.0      1              1   \n",
      "2     86       83               57.0                0.0      1              1   \n",
      "3     74       83               67.0                0.0      1              1   \n",
      "\n",
      "   Sales        Date  \n",
      "0   5263  2015-07-31  \n",
      "1   6064  2015-07-31  \n",
      "2   8314  2015-07-31  \n",
      "3  13995  2015-07-31  \n",
      "\n",
      "[4 rows x 40 columns]\n"
     ]
    }
   ],
   "source": [
    "c = df.iloc[0:4]\n",
    "print(c)\n",
    "c.to_csv('./small_test.csv')"
   ]
  },
  {
   "cell_type": "code",
   "execution_count": 51,
   "metadata": {},
   "outputs": [
    {
     "name": "stdout",
     "output_type": "stream",
     "text": [
      "[(FloatItem [8.893487], tensor([8.8935]), tensor([8.8935])), (FloatItem [8.820939], tensor([8.8209]), tensor([8.8209])), (FloatItem [9.101529], tensor([9.1015]), tensor([9.1015])), (FloatItem [9.271607], tensor([9.2716]), tensor([9.2716]))]\r\n"
     ]
    }
   ],
   "source": [
    "!RossmannSales predict --input=small_test.csv"
   ]
  },
  {
   "cell_type": "code",
   "execution_count": null,
   "metadata": {},
   "outputs": [
    {
     "name": "stdout",
     "output_type": "stream",
     "text": [
      " * Serving Flask app \"RossmannSales\" (lazy loading)\n",
      " * Environment: production\n",
      "\u001b[31m   WARNING: Do not use the development server in a production environment.\u001b[0m\n",
      "\u001b[2m   Use a production WSGI server instead.\u001b[0m\n",
      " * Debug mode: off\n",
      " * Running on http://127.0.0.1:5000/ (Press CTRL+C to quit)\n",
      "127.0.0.1 - - [21/Jul/2019 22:35:25] \"GET / HTTP/1.1\" 200 -\n",
      "127.0.0.1 - - [21/Jul/2019 22:35:27] \"GET /docs.json HTTP/1.1\" 200 -\n",
      "127.0.0.1 - - [21/Jul/2019 22:35:35] \"POST /predict HTTP/1.1\" 200 -\n",
      "127.0.0.1 - - [21/Jul/2019 22:35:45] \"GET /predict HTTP/1.1\" 400 -\n"
     ]
    }
   ],
   "source": [
    "!bentoml serve {saved_path}"
   ]
  },
  {
   "cell_type": "code",
   "execution_count": null,
   "metadata": {},
   "outputs": [],
   "source": [
    "#!docker login -u=\"southsidesilva\" -p=\"southsidesilva\""
   ]
  },
  {
   "cell_type": "code",
   "execution_count": null,
   "metadata": {},
   "outputs": [],
   "source": [
    "#!cd {saved_path} && docker build . -t rossmann_sales"
   ]
  },
  {
   "cell_type": "code",
   "execution_count": null,
   "metadata": {},
   "outputs": [],
   "source": [
    "#!docker run -p 5000:5000  rossmann_sales"
   ]
  },
  {
   "cell_type": "code",
   "execution_count": null,
   "metadata": {},
   "outputs": [],
   "source": []
  }
 ],
 "metadata": {
  "accelerator": "GPU",
  "colab": {
   "collapsed_sections": [],
   "name": "rossman_sales.ipynb",
   "provenance": [],
   "version": "0.3.2"
  },
  "kernelspec": {
   "display_name": "Python 3",
   "language": "python",
   "name": "python3"
  },
  "language_info": {
   "codemirror_mode": {
    "name": "ipython",
    "version": 3
   },
   "file_extension": ".py",
   "mimetype": "text/x-python",
   "name": "python",
   "nbconvert_exporter": "python",
   "pygments_lexer": "ipython3",
   "version": "3.7.2"
  }
 },
 "nbformat": 4,
 "nbformat_minor": 1
}
